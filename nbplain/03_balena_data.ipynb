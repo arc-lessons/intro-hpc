{
 "cells": [
  {
   "cell_type": "markdown",
   "metadata": {
    "slideshow": {
     "slide_type": "slide"
    }
   },
   "source": [
    "# Data and storage on Balena"
   ]
  },
  {
   "cell_type": "markdown",
   "metadata": {
    "slideshow": {
     "slide_type": "subslide"
    }
   },
   "source": [
    "## Overview:\n",
    "- **Teaching:** 10 min\n",
    "- **Exercises:** 5 min\n",
    "\n",
    "**Questions**\n",
    "- Where should I keep my files?\n",
    "- What are `$HOME` and `$SCRATCH` and how should I use them?\n",
    "- Where should I run my jobs?\n",
    "\n",
    "**Objectives**\n",
    "- Know the different characteristics and use of the different filesystems\n",
    "- Understand that `$HOME` should be used for important data/code/scripts that you want backed up\n",
    "- Understand that `$SCRATCH` should be used for:\n",
    "  * temporary storage\n",
    "  * storing large datasets for calculations\n",
    "  * running calculations\n",
    "- Know that you can access your 'H-drive' using `$BUCSHOME`"
   ]
  },
  {
   "cell_type": "markdown",
   "metadata": {},
   "source": [
    "## Information: Where should I keep my data?\n",
    "\n",
    "Balena has two file systems: /home and /beegfs/scratch with very different characteristics and uses:\n",
    "\n",
    "| Filesystems | /home | /beegfs/scratch |\n",
    "|:---|:---|:---|\n",
    "| User directories | /home/X/username | /beegfs/scratch/user/X/username |\n",
    "| Environment Variables | \\$HOME | \\$SCRATCH |\n",
    "| Total capacity | ~50TB | ~660TB |\n",
    "| User quota | 5 GB | *Unlimited* * |\n",
    "| Performance (login node) | <500MB/sec | 1.2GB/sec (large files)\n",
    "| Performance (compute node) | <100MB/sec | 1.2GB/sec |\n",
    "| Aggregate BW for all users | in excess of 10GB/secs ||\n",
    "| **Data policy** | **Backed up** | ***Not backed up*** |"
   ]
  },
  {
   "cell_type": "markdown",
   "metadata": {
    "slideshow": {
     "slide_type": "subslide"
    }
   },
   "source": [
    "\\*While user quota is *unlimited* on the scratch storage you should:\n",
    "\n",
    "1. ensure that you have the capacity elsewhere to back up any data you rely on for your research\n",
    "2. you should back up essential data at the earliest opoprtunity\n",
    "3. you should remove data as soon as possible upon completion of jobs using it\n",
    "4. ***remember that the scratch storage is not backed up***"
   ]
  },
  {
   "cell_type": "markdown",
   "metadata": {
    "slideshow": {
     "slide_type": "slide"
    }
   },
   "source": [
    "## Information: Scratch storage\n",
    "1. The scratch storage is not backed up\n",
    "2. *The scratch storage is not backed up*\n",
    "3. **The scratch storage is not backed up**"
   ]
  },
  {
   "cell_type": "markdown",
   "metadata": {
    "slideshow": {
     "slide_type": "slide"
    }
   },
   "source": [
    "## Information: In the following cells where we are demonstrating bash commands you will see a first line:\n",
    "\n",
    "```bash\n",
    "%%bash2\n",
    "```\n",
    "\n",
    "Don't forget that this line should be ignored, it's purpose is to help use generate the tutorial material, you do not need to type or execute and if you do so will get a `command not found error` or something to that effect.\n"
   ]
  },
  {
   "cell_type": "markdown",
   "metadata": {
    "slideshow": {
     "slide_type": "slide"
    }
   },
   "source": [
    "Let's explore this now.  Once you have successfully logged on try the following commands:"
   ]
  },
  {
   "cell_type": "code",
   "execution_count": 1,
   "metadata": {
    "slideshow": {
     "slide_type": "subslide"
    }
   },
   "outputs": [
    {
     "name": "stderr",
     "output_type": "stream",
     "text": [
      "UsageError: Cell magic `%%bash2` not found.\n"
     ]
    }
   ],
   "source": [
    "%%bash2 # Ignore this line, just run what follows\n",
    "pwd"
   ]
  },
  {
   "cell_type": "code",
   "execution_count": 2,
   "metadata": {
    "slideshow": {
     "slide_type": "subslide"
    }
   },
   "outputs": [
    {
     "name": "stderr",
     "output_type": "stream",
     "text": [
      "UsageError: Cell magic `%%bash2` not found.\n"
     ]
    }
   ],
   "source": [
    "%%bash2 # Ignore this line, just run what follows\n",
    "echo $HOME\n",
    "echo $SCRATCH\n",
    "cd $SCRATCH\n",
    "pwd"
   ]
  },
  {
   "cell_type": "markdown",
   "metadata": {
    "slideshow": {
     "slide_type": "slide"
    }
   },
   "source": [
    "## Exercise: Go home\n",
    "\n",
    "How can we use the environment variables we've used above to return to our `home` directory?\n",
    "\n",
    "[Solution]()"
   ]
  },
  {
   "cell_type": "markdown",
   "metadata": {
    "slideshow": {
     "slide_type": "slide"
    }
   },
   "source": [
    "## Solution: Go home\n",
    "\n",
    "We can use the `$HOME` variable in exactly the same way as we used `$SCRATCH`:\n",
    "\n",
    "```bash\n",
    "cd $HOME\n",
    "pwd\n",
    "```"
   ]
  },
  {
   "cell_type": "markdown",
   "metadata": {
    "slideshow": {
     "slide_type": "slide"
    }
   },
   "source": [
    "## Information: Where should I keep my files and data?\n",
    "\n",
    "The `$HOME` filesystem could be used e.g.:\n",
    "\n",
    "1. Template jobscripts\n",
    "2. Code/scripts for your calculations\n",
    "\n",
    "The `$SCRATCH` fielsystem should be used e.g.:\n",
    "\n",
    "3. Large datasets for calculations\n",
    "4. Working directory for your jobs\n",
    "\n",
    "If you are in your `$HOME` directory there is also a directory link `scratch`.  We will explore this further when we start running jobs in the following sections."
   ]
  },
  {
   "cell_type": "markdown",
   "metadata": {},
   "source": [
    "## Moving data to and from Balena\n",
    "\n",
    "If you use the command line on linux you can use [`scp`](https://man.openbsd.org/scp) to move files from your local machine to and from Balena.  The command is used in a similar way to `cp`, for instance to copy a file from your current directory to your scratch area:\n",
    "\n",
    "```bash\n",
    "scp local_file balena.bath.ac.uk:~/scratch\n",
    "```\n",
    "\n",
    "Note that this assumes that you are using your University username on your local machine.  If you are not then you need to include this in the command.  For instance to copy a file from your current directory on your local machine to Balena:\n",
    "\n",
    "```bash\n",
    "scp username@balena.bath.ac.uk/my_data .\n",
    "```\n",
    "\n",
    "You could also consider using packages such as `rsync` for synchronising data back to your local machine.  Used properly this wcan greatly help managing your data and avoid creating multiple backups of your work.\n",
    "\n",
    "\n",
    "If you prefer to use graphical interfaces tools such as [`winscp`](https://www.winscp.net) or [`filezilla`](https://filezilla-project.org/) offer similar functionality. "
   ]
  },
  {
   "cell_type": "markdown",
   "metadata": {},
   "source": [
    "## Exercise: Quota and disk usage\n",
    "\n",
    "We saw earlier that you have a 5GB quota for your home area.  Check your home area quota using the following commands:-\n",
    "\n",
    "```bash\n",
    "$ quota\n",
    "$ quota -s\n",
    "```\n",
    "\n",
    "You can also use the df command we saw earlier to check partition size and usage information\n",
    "```bash\n",
    "$ df -h\n",
    "```"
   ]
  },
  {
   "cell_type": "markdown",
   "metadata": {
    "slideshow": {
     "slide_type": "slide"
    }
   },
   "source": [
    "## Exercise: `$BUCSHOME`\n",
    "Besides `$HOME` and `$SCRATCH` another helper environment variable is `$BUCSHOME`.  Run the following command and inspect the output to see if you recognise where `$BUCSHOME` points:\n",
    "\n",
    "```bash\n",
    "$ ls $BUCSHOME\n",
    "```\n",
    "\n",
    "Hopefully you can identify this as the `H0drive` or if you use it, your home space on `linux.bath.ac.uk`.  This can be useful for moving data between data between your dekstop/laptop and Balena.  Depending on how it was set up we may also be able to provide access to your `X-drive` but you will need to contact hpc-support@bath.ac.uk to see if this is possible.\n",
    "\n",
    "Note however that `$BUCSHOME` is not available to jobs running on Balena, so you need to move any data before or after these have run."
   ]
  },
  {
   "cell_type": "markdown",
   "metadata": {
    "slideshow": {
     "slide_type": "slide"
    }
   },
   "source": [
    "## Exercise+: Copying the course material\n",
    "\n",
    "Copy across the files required for the exercises to your BeeGFS scratch filesystem:"
   ]
  },
  {
   "cell_type": "code",
   "execution_count": null,
   "metadata": {
    "slideshow": {
     "slide_type": "subslide"
    }
   },
   "outputs": [],
   "source": [
    "%%bash2\n",
    "cd $SCRATCH\n",
    "cp /beegfs/scratch/group/training/balena-intro.tar.gz ./"
   ]
  },
  {
   "cell_type": "markdown",
   "metadata": {
    "slideshow": {
     "slide_type": "subslide"
    }
   },
   "source": [
    "Note: The “ ./ ” or “dot-slash” at the end of the line indicates the current directory."
   ]
  },
  {
   "cell_type": "code",
   "execution_count": null,
   "metadata": {
    "slideshow": {
     "slide_type": "subslide"
    }
   },
   "outputs": [],
   "source": [
    "%%bash2\n",
    "tar xvfz balena-intro.tar.gz\n",
    "cd balena-intro\n",
    "ls -l"
   ]
  },
  {
   "cell_type": "markdown",
   "metadata": {
    "slideshow": {
     "slide_type": "subslide"
    }
   },
   "source": [
    "Make sure that this exercise is completed successfully before continuing as we will need the material later in the lesson.\n",
    "\n",
    ":exercise+"
   ]
  },
  {
   "cell_type": "markdown",
   "metadata": {
    "slideshow": {
     "slide_type": "slide"
    }
   },
   "source": [
    "## Key Points:\n",
    "- `$HOME` should be used for important data/code/scripts that you want backed up\n",
    "- `$SCRATCH` should be used for running calculations\n",
    "- A range of command line and graphical tools are available to help you move data to and from Balena"
   ]
  }
 ],
 "metadata": {
  "celltoolbar": "Slideshow",
  "kernelspec": {
   "display_name": "Python 3",
   "language": "python",
   "name": "python3"
  },
  "language_info": {
   "codemirror_mode": {
    "name": "ipython",
    "version": 3
   },
   "file_extension": ".py",
   "mimetype": "text/x-python",
   "name": "python",
   "nbconvert_exporter": "python",
   "pygments_lexer": "ipython3",
   "version": "3.7.4"
  }
 },
 "nbformat": 4,
 "nbformat_minor": 2
}
