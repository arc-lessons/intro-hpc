{
 "cells": [
  {
   "cell_type": "markdown",
   "metadata": {
    "slideshow": {
     "slide_type": "slide"
    }
   },
   "source": [
    "# Accessing software on Balena"
   ]
  },
  {
   "cell_type": "markdown",
   "metadata": {
    "slideshow": {
     "slide_type": "subslide"
    }
   },
   "source": [
    "## Overview:\n",
    "- **Teaching:** 10 min\n",
    "- **Exercises:** 5 min\n",
    "\n",
    "**Questions**\n",
    "- How do I access software?\n",
    "- What libraries are available?\n",
    "- How can I access different applications?\n",
    "- What tools are there to help me?\n",
    "- Why can't I access certain applications?\n",
    "- Can you help me to install my research codes?\n",
    "\n",
    "**Objectives**\n",
    "- Know that software on Balena is managed with `module` and understand how to use it\n",
    "- Know that software is collected into groups with different functions\n",
    "- Understand that some applications are under license which may need to be verified before granting access\n",
    "- Understand that we can help install or build software but it is important for you to know how to do this as well"
   ]
  },
  {
   "cell_type": "markdown",
   "metadata": {
    "slideshow": {
     "slide_type": "slide"
    }
   },
   "source": [
    "## `module`\n",
    "\n",
    "On Balena `module` is used to manage different libraries and pieces of software.  Unlike you own machine where you likely have one set of up packages each running with the latest versions on Balena there are many different applications each with different versions and libraries that they rely on.  Tools like module ensure researchers can access the versions of applications and libraries they want and allow the service to be managed more easily.  It also means that the correct dependencies, typically libraries that are used to compile applications can be loaded automatically making life easier for users.\n",
    "\n",
    "You can check what modules are loaded when you first log-in to Balena:"
   ]
  },
  {
   "cell_type": "code",
   "execution_count": 1,
   "metadata": {
    "slideshow": {
     "slide_type": "subslide"
    }
   },
   "outputs": [
    {
     "name": "stderr",
     "output_type": "stream",
     "text": [
      "UsageError: Cell magic `%%bash2` not found.\n"
     ]
    }
   ],
   "source": [
    "%%bash2\n",
    "module list"
   ]
  },
  {
   "cell_type": "markdown",
   "metadata": {
    "slideshow": {
     "slide_type": "slide"
    }
   },
   "source": [
    "You can also run this command at any time to check which modules you have loaded or removed.\n",
    "\n",
    "By default only `gcc/4.9.3` and `slurm/17.11.17` are loaded.  \n",
    "\n",
    "- `gcc` provides the standard serial  gnu compiler suite\n",
    "- `slurm` is the scheduler which manages the queue and allows you to run jobs\n",
    "\n",
    "We will discuss `slurm` in more detail in the following episode.  For now let's find what other modules are available:"
   ]
  },
  {
   "cell_type": "code",
   "execution_count": null,
   "metadata": {
    "slideshow": {
     "slide_type": "subslide"
    }
   },
   "outputs": [],
   "source": [
    "%%bash2\n",
    "module avail"
   ]
  },
  {
   "cell_type": "markdown",
   "metadata": {
    "slideshow": {
     "slide_type": "slide"
    }
   },
   "source": [
    "As you will see there is a lot of software available.  It is broken down into sections:\n",
    "\n",
    "| Section | Content |\n",
    "|---|---|---|\n",
    "| /apps/modules/balena | Balena specific modules |\n",
    "| /apps/modules/applications | (HPC) Applications |\n",
    "| /apps/modules/compilers-langs | Programming languages and compilers |\n",
    "| /apps/modules/libraries | Additional libraries |\n",
    "| /apps/modules/tools | Build, debugging & profiling tools |\n"
   ]
  },
  {
   "cell_type": "markdown",
   "metadata": {
    "slideshow": {
     "slide_type": "slide"
    }
   },
   "source": [
    "In order to access these modules they need to be loaded: "
   ]
  },
  {
   "cell_type": "code",
   "execution_count": null,
   "metadata": {
    "slideshow": {
     "slide_type": "subslide"
    }
   },
   "outputs": [],
   "source": [
    "%%bash2\n",
    "module load python3"
   ]
  },
  {
   "cell_type": "markdown",
   "metadata": {
    "slideshow": {
     "slide_type": "subslide"
    }
   },
   "source": [
    "## Information: Licensed software\n",
    "\n",
    "Some of the software on Balena is licensed, for instance there are a finite number of intel compiler licenses so if these happen to be in use you may have to wait for one to become available to compile your code.\n",
    "\n",
    "Similarly some scientific codes have licenses that require us to ensure that the license holder complies with their obligations.  If you are unable to access the codes that you require check [licensed codes](https://wiki.bath.ac.uk/display/BalenaHPC/Software) some of these are controlled by your PI, some by us.  If you believe you should have access yp aa code, email `hpc-support@bath.ac.uk`.\n",
    "\n",
    "When loading modules it is important to ensure that you are clear about which module you are using.  If we wanted to use `gcc/9.2.0`, how can we ensure that we use this version rather than the default that `gcc/4.9.3` that is loaded we when login?  We can swap or switch modules:"
   ]
  },
  {
   "cell_type": "code",
   "execution_count": null,
   "metadata": {
    "slideshow": {
     "slide_type": "subslide"
    }
   },
   "outputs": [],
   "source": [
    "%%bash2\n",
    "module switch gcc/4.9.3 gcc/9.2.0"
   ]
  },
  {
   "cell_type": "markdown",
   "metadata": {
    "slideshow": {
     "slide_type": "subslide"
    }
   },
   "source": [
    "Also if you are installing multiple libraries, e.g. the intel `compiler`, `mpi` and `maths` libraries make sure they are the same version, or that they match e.g. are all `intel` flavours or all `gcc` flavours of libraries."
   ]
  },
  {
   "cell_type": "markdown",
   "metadata": {
    "slideshow": {
     "slide_type": "slide"
    }
   },
   "source": [
    "Finally if you want to clean you environment of all modules to start from scratch you can use:"
   ]
  },
  {
   "cell_type": "code",
   "execution_count": null,
   "metadata": {
    "slideshow": {
     "slide_type": "subslide"
    }
   },
   "outputs": [],
   "source": [
    "%%bash2\n",
    "module purge"
   ]
  },
  {
   "cell_type": "markdown",
   "metadata": {
    "slideshow": {
     "slide_type": "slide"
    }
   },
   "source": [
    "## Information: Access software using `module <verb>`\n",
    "\n",
    "The majority of software on Balena is managed using `module`.  Use this in combination with a 'verb' for different functionality:\n",
    "\n",
    "What modules do I currently have loaded:\n",
    "\n",
    "```bash\n",
    "$ module list\n",
    "```\n",
    "\n",
    "What modules are available:\n",
    "\n",
    "```bash\n",
    "$ module avail\n",
    "```\n",
    "\n",
    "Load a module:\n",
    "\n",
    "```bash\n",
    "$ module load <software>/<flavour>/<version>\n",
    "```\n",
    "\n",
    "Note the (default) versions that are loaded if you don't completely specify the module name.\n",
    "\n",
    "You can remove modules using `module rm` or swap e.g. between different versions using `module switch`.  You can remove all currently loaded modules using:\n",
    "\n",
    "```bash\n",
    "module purge\n",
    "```\n",
    "\n",
    "this is really useful for making sure you have a clean module environment e.g. when you in job scripts.  But note that this will also prevent you running jobs as you need `slurm` to be able to run correctly.  So if you do use this in your job scripts ensure you have:\n",
    "\n",
    "```bash\n",
    "module purge\n",
    "module load slurm\n",
    "module load my_favourite_research_apps_and_libraries\n",
    "```"
   ]
  },
  {
   "cell_type": "markdown",
   "metadata": {
    "slideshow": {
     "slide_type": "slide"
    }
   },
   "source": [
    "## Key Points:\n",
    "- Software on Balena is managed with `module`\n",
    "- Software is collected in different groups e.g.: libraries, tools, applications\n",
    "- You may need a license to run certain applications\n",
    "- We can help but it is good for you to understand how to install and build applications yourself"
   ]
  }
 ],
 "metadata": {
  "celltoolbar": "Slideshow",
  "kernelspec": {
   "display_name": "Python 3",
   "language": "python",
   "name": "python3"
  },
  "language_info": {
   "codemirror_mode": {
    "name": "ipython",
    "version": 3
   },
   "file_extension": ".py",
   "mimetype": "text/x-python",
   "name": "python",
   "nbconvert_exporter": "python",
   "pygments_lexer": "ipython3",
   "version": "3.7.4"
  }
 },
 "nbformat": 4,
 "nbformat_minor": 2
}
