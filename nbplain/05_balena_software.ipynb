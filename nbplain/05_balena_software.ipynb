{
 "cells": [
  {
   "cell_type": "markdown",
   "metadata": {
    "slideshow": {
     "slide_type": "slide"
    }
   },
   "source": [
    "# Accessing software on Balena"
   ]
  },
  {
   "cell_type": "markdown",
   "metadata": {
    "slideshow": {
     "slide_type": "subslide"
    }
   },
   "source": [
    "## Overview:\n",
    "- **Teaching:** 10 min\n",
    "- **Exercises:** 5 min\n",
    "\n",
    "**Questions**\n",
    "- How do I access software?\n",
    "- What software is available?\n",
    "- Why can't I access certain applications?\n",
    "- Can you help me to install my research codes?\n",
    "\n",
    "**Objectives**\n",
    "- Know that software on Balena is managed with `module` and understand how to use it\n",
    "- Know that software is collected into groups with different functions\n",
    "- Understand that some applications are under license which may need to be verified before granting access\n",
    "- Understand that we can help install or build software but it is important for you to know how to do this as well"
   ]
  },
  {
   "cell_type": "markdown",
   "metadata": {
    "slideshow": {
     "slide_type": "slide"
    }
   },
   "source": [
    "## Key Points:\n",
    "- Software on Balena is managed with `module`\n",
    "- Software is collected in different groups: libraries, tools, applications\n",
    "- You may need a license to run certain applications\n",
    "- We can help but it is good for you to understand how to install and build applicaitons yourself"
   ]
  }
 ],
 "metadata": {
  "celltoolbar": "Slideshow",
  "kernelspec": {
   "display_name": "Python 3",
   "language": "python",
   "name": "python3"
  },
  "language_info": {
   "codemirror_mode": {
    "name": "ipython",
    "version": 3
   },
   "file_extension": ".py",
   "mimetype": "text/x-python",
   "name": "python",
   "nbconvert_exporter": "python",
   "pygments_lexer": "ipython3",
   "version": "3.7.4"
  }
 },
 "nbformat": 4,
 "nbformat_minor": 2
}
