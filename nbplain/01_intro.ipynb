{
 "cells": [
  {
   "cell_type": "markdown",
   "metadata": {
    "slideshow": {
     "slide_type": "slide"
    }
   },
   "source": [
    "# Introduction"
   ]
  },
  {
   "cell_type": "markdown",
   "metadata": {
    "slideshow": {
     "slide_type": "subslide"
    }
   },
   "source": [
    "## Overview:\n",
    "- **Teaching:** 15 min\n",
    "- **Exercises:** 0 min\n",
    "\n",
    "**Questions**\n",
    "- What is High Performance Computing?\n",
    "- Why would I want to use HPC?\n",
    "- What is our local service?\n",
    "- How do I acknowledge the HPC service in my publications?\n",
    "\n",
    "**Objectives**\n",
    "- Understand that HPC is a collection of computing resourcesto deliver higher performance than a single machine.\n",
    "- Understand tha HPC can help you run your calculations more effieciently and more reliably.\n",
    "- Know that as well as the the HPC service there is a team to help you with your research, and how to contact them.\n",
    "- Know how to acknowledge the service in your papers and associate with publications in Pure."
   ]
  },
  {
   "cell_type": "markdown",
   "metadata": {
    "slideshow": {
     "slide_type": "slide"
    }
   },
   "source": [
    "## What is HPC and why is it different to using your desktop?\n",
    "\n",
    "“High Performance Computing most generally refers to the practice of aggregatin computing power in a way that delivers much higher performance than one could get out of a typical desktop computer or workstation in order to solve large problems in science, engineering, or business.” - insideHPC\n",
    "\n",
    "* Aggregated computing power\n",
    "* Very large problem sizes\n",
    "* Faster time to solutions for applications that scale\n",
    "* Multiple problems simultaneously "
   ]
  },
  {
   "cell_type": "markdown",
   "metadata": {
    "slideshow": {
     "slide_type": "slide"
    }
   },
   "source": [
    "## Key Points:\n",
    "- HPC is a shared collection of computing resources, typically allocated via a scheduler\n",
    "- It is not magic to make your code faster\n",
    "- The University runs an HPC service Balena\n",
    "- The HPC team and RSE can help you to get started on Balena or port your codes\n",
    "- Acknowledge Balena so we can demonstrate the impact of the service in delivering your research."
   ]
  }
 ],
 "metadata": {
  "celltoolbar": "Slideshow",
  "kernelspec": {
   "display_name": "Python 3",
   "language": "python",
   "name": "python3"
  },
  "language_info": {
   "codemirror_mode": {
    "name": "ipython",
    "version": 3
   },
   "file_extension": ".py",
   "mimetype": "text/x-python",
   "name": "python",
   "nbconvert_exporter": "python",
   "pygments_lexer": "ipython3",
   "version": "3.7.4"
  }
 },
 "nbformat": 4,
 "nbformat_minor": 2
}
