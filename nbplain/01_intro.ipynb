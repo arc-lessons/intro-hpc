{
 "cells": [
  {
   "cell_type": "markdown",
   "metadata": {
    "slideshow": {
     "slide_type": "slide"
    }
   },
   "source": [
    "# Introduction"
   ]
  },
  {
   "cell_type": "markdown",
   "metadata": {
    "slideshow": {
     "slide_type": "subslide"
    }
   },
   "source": [
    "## Overview:\n",
    "- **Teaching:** 15 min\n",
    "- **Exercises:** 0 min\n",
    "\n",
    "**Questions**\n",
    "- What is High Performance Computing?\n",
    "- Why would I want to use HPC?\n",
    "- What is our local service?\n",
    "- How do I acknowledge the HPC service in my publications?\n",
    "\n",
    "**Objectives**\n",
    "- Understand that HPC is a collection of computing resourcesto deliver higher performance than a single machine.\n",
    "- Understand tha HPC can help you run your calculations more effieciently and more reliably.\n",
    "- Know that as well as the the HPC service there is a team to help you with your research, and how to contact them.\n",
    "- Know how to acknowledge the service in your papers and associate with publications in Pure."
   ]
  },
  {
   "cell_type": "markdown",
   "metadata": {
    "slideshow": {
     "slide_type": "slide"
    }
   },
   "source": [
    "## What is HPC and why is it different to using your desktop?\n",
    "\n",
    "“High Performance Computing most generally refers to the practice of aggregating computing power in a way that delivers much higher performance than one could get out of a typical desktop computer or workstation in order to solve large problems in science, engineering, or business.” - insideHPC\n",
    "\n",
    "* Aggregated computing power\n",
    "* Very large problem sizes\n",
    "* Faster time to solutions for applications that scale\n",
    "* Multiple problems simultaneously "
   ]
  },
  {
   "cell_type": "markdown",
   "metadata": {
    "slideshow": {
     "slide_type": "slide"
    }
   },
   "source": [
    "## Information: Technical Specification\n",
    "\n",
    "| Hardware | Count/Amount |\n",
    "|---|---|\n",
    "| Nodes | 202 |\n",
    "| Main compute | 3,072 Intel Ivy Bridge cores (16 per node) |\n",
    "| Upgrade compute | 408 Intel Skylake cores (24 per node) |\n",
    "| Total Memory | 18TB |\n",
    "| Node Memory | mostly 64GB/128GB |\n",
    "| | Skylake 192GB |\n",
    "| | Hi-mem 512GB |\n",
    "| 'Home' Storage | ~50TB (backed up) |\n",
    "| 'Scratch' Storage | 660TB (Parallel not backed up) |\n",
    "| Accelerators | GPUS, K20X and P100 |\n",
    "| Network | Intel TrueScale 2:1 blocking | \n",
    "|| (worst case) QDR Infiniband fabric |\n",
    "\n",
    "Additional sevices:\n",
    "\n",
    "* Interactive development and testing nodes\n",
    "* Visualisation nodes"
   ]
  },
  {
   "cell_type": "markdown",
   "metadata": {},
   "source": [
    "Balena sits in a room with other computingresources in  cabinets:\n",
    "\n",
    "![Cabinets in a data centre](../images/balena-data-centre.jpg)\n",
    "\n",
    "It has mood lighting to make it look pretty for marketing shots:\n",
    "\n",
    "![Balena lights](../images/balena-lights.jpg)\n",
    "\n",
    "Connecting all the computing resources together takes a lot of special cables:\n",
    "\n",
    "![Balena cables 1](../images/balena-cables1.jpg)\n",
    "\n",
    "And can be quite pleasing to the eye:\n",
    "\n",
    "![Balena cables 2](../images/balena-cables2.jpg)\n",
    "\n"
   ]
  },
  {
   "cell_type": "markdown",
   "metadata": {},
   "source": [
    "## Advancing Research Compute (ARC) team\n",
    "\n",
    "ARC run and support the HPC service at Bath:\n",
    "\n",
    "| | |\n",
    "|:---|:---|\n",
    "| Steven Chapman | ARC Manager |\n",
    "| Roshan Mathew | HPC System Developer |\n",
    "| James Grant | Research Software Engineer |\n",
    "| Stefano Angioni | Cloud Solutions Developer |"
   ]
  },
  {
   "cell_type": "markdown",
   "metadata": {},
   "source": [
    "We provide a range of support and consultancy services including to help users of all skill levels:\n",
    "\n",
    "* installing and supporting software applications\n",
    "* assistance with creating job scripts, workflow and troubleshooting issues\n",
    "* optimising software performance and streamline data handling and analysis process\n",
    "* guidance and support in meeting current and future research challenges\n",
    "* advice on including HPC and software development costs on research proposals\n",
    "* migrate to the Balena/Isambard HPC systems\n",
    "* software development consultancy\n",
    "* training course\n",
    "  * [Research Software Skills](https://moodle.bath.ac.uk/course/view.php?id=58752)\n",
    "  * [Course list](https://arc-lessons.github.io/courses)\n",
    "  * Introduction to Linux\n",
    "  * Introdution to HPC\n",
    "  * Programming\n",
    "  * Version control\n",
    "  * Testing\n",
    "  * Working with data and plotting\n",
    " "
   ]
  },
  {
   "cell_type": "markdown",
   "metadata": {},
   "source": [
    "## Information: Acknowledge use of Balena/Assistance\n",
    "\n",
    "Reason\n",
    "* Important measure of success for the service\n",
    "* Help secure future funding for HPC\n",
    "\n",
    "How:\n",
    "* Research publications\n",
    "  * “This research made use of the Balena High Performance Computing (HPC) Service at the University of Bath”\n",
    "* University of Bath's Research portal, Pure, tag the Balena resouce:\n",
    "\n",
    "![Balena location as Equipment in Pure](../images/hpc-ack.png)"
   ]
  },
  {
   "cell_type": "markdown",
   "metadata": {
    "slideshow": {
     "slide_type": "slide"
    }
   },
   "source": [
    "## Key Points:\n",
    "- HPC is a shared collection of computing resources, typically allocated via a scheduler\n",
    "- It is not magic to make your code faster\n",
    "- The University runs an HPC service Balena\n",
    "- The HPC team and RSE can help you to get started on Balena or port your codes\n",
    "- Acknowledge Balena/Isambard and tag them in Pure so we can demonstrate the impact of the service in delivering your research."
   ]
  }
 ],
 "metadata": {
  "celltoolbar": "Slideshow",
  "kernelspec": {
   "display_name": "Python 3",
   "language": "python",
   "name": "python3"
  },
  "language_info": {
   "codemirror_mode": {
    "name": "ipython",
    "version": 3
   },
   "file_extension": ".py",
   "mimetype": "text/x-python",
   "name": "python",
   "nbconvert_exporter": "python",
   "pygments_lexer": "ipython3",
   "version": "3.7.4"
  }
 },
 "nbformat": 4,
 "nbformat_minor": 2
}
