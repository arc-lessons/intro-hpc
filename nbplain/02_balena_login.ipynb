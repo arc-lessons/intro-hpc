{
 "cells": [
  {
   "cell_type": "markdown",
   "metadata": {
    "slideshow": {
     "slide_type": "slide"
    }
   },
   "source": [
    "# Accessing Balena"
   ]
  },
  {
   "cell_type": "markdown",
   "metadata": {
    "slideshow": {
     "slide_type": "subslide"
    }
   },
   "source": [
    "## Overview:\n",
    "- **Teaching:** 10 min\n",
    "- **Exercises:** 5 min\n",
    "\n",
    "**Questions**\n",
    "- How do I get access to Balena?\n",
    "- How do I login to Balena?\n",
    "- Can I access Balena remotely?\n",
    "\n",
    "**Objectives**\n",
    "- Know that you can access Balena using your University account, but this needs to be activated by your department champion\n",
    "- Know that you can log-in to Balena using ssh, Putty (Kitty on University PCs)\n",
    "- Know that if you are off campus you need to use VPN to connect to Balena"
   ]
  },
  {
   "cell_type": "markdown",
   "metadata": {
    "slideshow": {
     "slide_type": "slide"
    }
   },
   "source": [
    "## Information: Get an account\n",
    "\n",
    "To access Balena your account needs to be authorised by your [departmental champion](https://wiki.bath.ac.uk/display/BalenaHPC/Getting+Access) if your department does not have one you should contact [hpc-support](mailto:it-hpc@bath.ac.uk) to get access."
   ]
  },
  {
   "cell_type": "markdown",
   "metadata": {
    "slideshow": {
     "slide_type": "slide"
    }
   },
   "source": [
    "## Information: Login to Balena\n",
    "\n",
    "We login to Balena using `ssh`.  If you are a linux/MacOS user the `ssh` command can be run from the terminal/command line.  If you are a Windows users you can use [Putty](https://www.putty.org/).  On University PCs a derivative of Putty, Kitty is pre-configured to access Balena. If you are working on your own machine you will need to set up Putty/Kitty yourself:\n",
    "\n",
    "![Balena location as Equipment in Pure](../images/balena-putty1.png)\n",
    "\n",
    "Then you can load and open the session to login to Balena:\n",
    "\n",
    "![Balena location as Equipment in Pure](../images/balena-putty2.png)"
   ]
  },
  {
   "cell_type": "markdown",
   "metadata": {},
   "source": [
    "## Message of the Day\n",
    "\n",
    "Once you have logged on you will see something like the below screen shot.  Note that if you are asked for a password nothing will be printed to the screen and the cursor will not move.\n",
    "\n",
    "![Balena login and message of the day](../images/balena-motd.png)\n",
    "\n",
    "The message of the day is used to inform users of any issues, pending maintenance or general announcements that they should be aware of.  Once logged on you will see the 'prompt' which looks something like:\n",
    "\n",
    "```bash\n",
    "[username@balena-01 ~]$\n",
    "```"
   ]
  },
  {
   "cell_type": "markdown",
   "metadata": {
    "slideshow": {
     "slide_type": "slide"
    }
   },
   "source": [
    "## Information:  Off-campus access\n",
    "\n",
    "It order to access Balena remotely but you will need to [connect to the Unviersity VPN](https://www.bath.ac.uk/guides/setting-up-vpn-on-your-device/)."
   ]
  },
  {
   "cell_type": "markdown",
   "metadata": {
    "slideshow": {
     "slide_type": "slide"
    }
   },
   "source": [
    "## Exercise: Useful commands/information\n",
    "\n",
    "Once you are logged in try running some of the following commands, can you interpret the output?\n",
    "\n",
    "```bash\n",
    "$ whoami\n",
    "$ hostname\n",
    "$ pwd\n",
    "$ df -h\n",
    "$ cat /proc/cpuinfo\n",
    "$ cat /proc/meminfo\n",
    "```\n",
    "\n",
    "If you can't work out what they are doing remember you can typically find out what a program is doing with `man [program]` or `program --help`."
   ]
  },
  {
   "cell_type": "markdown",
   "metadata": {
    "slideshow": {
     "slide_type": "slide"
    }
   },
   "source": [
    "## Key Points:\n",
    "- Any researcher with a Bath account can request to use Balena\n",
    "- Use ssh, Putty (Kitty on University PCs) to login to Balena\n",
    "- If you are off campus remember to connect to the VPN to access Balena"
   ]
  }
 ],
 "metadata": {
  "celltoolbar": "Slideshow",
  "kernelspec": {
   "display_name": "Python 3",
   "language": "python",
   "name": "python3"
  },
  "language_info": {
   "codemirror_mode": {
    "name": "ipython",
    "version": 3
   },
   "file_extension": ".py",
   "mimetype": "text/x-python",
   "name": "python",
   "nbconvert_exporter": "python",
   "pygments_lexer": "ipython3",
   "version": "3.7.4"
  }
 },
 "nbformat": 4,
 "nbformat_minor": 2
}
