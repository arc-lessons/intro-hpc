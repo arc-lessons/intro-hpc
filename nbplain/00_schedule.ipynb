{
 "cells": [
  {
   "cell_type": "markdown",
   "metadata": {
    "slideshow": {
     "slide_type": "slide"
    }
   },
   "source": [
    "# Introduction to HPC\n",
    "\n",
    "The aims of this lesson are that you should:\n",
    "\n",
    "* Be able to login to the University HPC service, Balena\n",
    "* Understand the different resources and partitions available on Balena\n",
    "* Understand what storage is available on Balena\n",
    "* Be able to find the software you want to use\n",
    "* Understand why we use a scheduler and be familiar with its capabilities.\n",
    "* Know how to create you own jobscript \n",
    "* Be able to submit and manage workloads on Balena\n",
    "* Be able to use interactive nodes for Test and Development\n",
    "* Be able to use use visualisation tools\n",
    "* Know where to find more information and how to ask for help"
   ]
  },
  {
   "cell_type": "markdown",
   "metadata": {
    "slideshow": {
     "slide_type": "slide"
    }
   },
   "source": [
    "## Prerequisites:\n",
    "\n",
    "To complete this lesson you should:\n",
    "* Be familar with working in the Linux teminal (see Introduction to Linux)\n",
    "* Want or need to use compute resource beyond your personal computer"
   ]
  },
  {
   "cell_type": "markdown",
   "metadata": {
    "slideshow": {
     "slide_type": "slide"
    }
   },
   "source": [
    "## Schedule:\n",
    "\n",
    "| Time | Episode | Description |\n",
    "|---|---|---|\n",
    "| 0:00 | [Introduction](01_intro.ipynb) | Introduction |\n",
    "| 0:15 | [Logging on to Balena](02_login.ipynb) | Log-in using ssh |"
   ]
  },
  {
   "cell_type": "markdown",
   "metadata": {
    "slideshow": {
     "slide_type": "slide"
    }
   },
   "source": [
    "## Information: Housekeeping\n",
    "\n",
    "* Attendance sheet\n",
    "* Fire alarm\n",
    "* Refreshment/comfort breaks\n",
    "* Questions anytime – lets us know if you need any assistance - it's why we're here.\n",
    "* Post-it notes\n",
    "* Feedback at the end of the training"
   ]
  }
 ],
 "metadata": {
  "celltoolbar": "Slideshow",
  "kernelspec": {
   "display_name": "Python 3",
   "language": "python",
   "name": "python3"
  },
  "language_info": {
   "codemirror_mode": {
    "name": "ipython",
    "version": 3
   },
   "file_extension": ".py",
   "mimetype": "text/x-python",
   "name": "python",
   "nbconvert_exporter": "python",
   "pygments_lexer": "ipython3",
   "version": "3.7.4"
  }
 },
 "nbformat": 4,
 "nbformat_minor": 2
}
