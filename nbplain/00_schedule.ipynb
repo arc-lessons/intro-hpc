{
 "cells": [
  {
   "cell_type": "markdown",
   "metadata": {
    "slideshow": {
     "slide_type": "slide"
    }
   },
   "source": [
    "# Introduction to HPC\n",
    "\n",
    "The aims of this lesson are that you should:\n",
    "\n",
    "* Be able to login to the University HPC service, Balena\n",
    "* Understand the different resources and partitions available on Balena\n",
    "* Understand what storage is available on Balena\n",
    "* Be able to find the software you want to use\n",
    "* Understand why we use a scheduler and be familiar with its capabilities.\n",
    "* Know how to create you own jobscript \n",
    "* Be able to submit and manage workloads on Balena\n",
    "* Be able to use interactive nodes for Test and Development\n",
    "* Be able to use use visualisation tools\n",
    "* Know where to find more information and how to ask for help"
   ]
  },
  {
   "cell_type": "markdown",
   "metadata": {
    "slideshow": {
     "slide_type": "slide"
    }
   },
   "source": [
    "## Prerequisites:\n",
    "\n",
    "To complete this lesson you should:\n",
    "* Be familar with working in the Linux teminal (see Introduction to Linux)\n",
    "* Want or need to use compute resource beyond your personal computer"
   ]
  },
  {
   "cell_type": "markdown",
   "metadata": {},
   "source": [
    "## Information: Registration\n",
    "\n",
    "If you ateend a delivery of this course, or just work through it in your own time please complete the registration form for our records:\n",
    "\n",
    "[Registration/Attendence form](https://forms.office.com/Pages/ResponsePage.aspx?id=Ij1-N6FOLUKwrY_MiUBrnjbvZwle2aNNjaEyC2bFE-RUNEpCMVQ0Uk5TM0JUMTBDUUtZWDBMS1FQUiQlQCN0PWcu)"
   ]
  },
  {
   "cell_type": "markdown",
   "metadata": {
    "slideshow": {
     "slide_type": "slide"
    }
   },
   "source": [
    "## Information: Useful Links and emails\n",
    "\n",
    "* Balena Wiki\n",
    "\n",
    "There is a wiki with information about Balena at: [https://wiki.bath.ac.uk/display/BalenaHPC/Getting+Started](https://wiki.bath.ac.uk/display/BalenaHPC/Getting+Started)\n",
    "\n",
    "* ARC website\n",
    "\n",
    "[https://www.bath.ac.uk/professional-services/advancing-research-computing/](https://www.bath.ac.uk/professional-services/advancing-research-computing/)\n",
    "\n",
    "* Research Software Skills Moodle Page\n",
    "\n",
    "[https://moodle.bath.ac.uk/course/view.php?id=58752](https://moodle.bath.ac.uk/course/view.php?id=58752)\n",
    "\n",
    "* HPC Support: hpc-support@bath.ac.uk\n",
    "* RSE-Support: rse-support@bath.ac.uk"
   ]
  },
  {
   "cell_type": "markdown",
   "metadata": {
    "slideshow": {
     "slide_type": "slide"
    }
   },
   "source": [
    "## Schedule:\n",
    "\n",
    "| Time | Episode | Description |\n",
    "|---|---|---|\n",
    "| 0:00 | [Introduction](01_intro.ipynb) | Introduction |\n",
    "| 0:15 | [Accessing Balena](02_balena_login.ipynb) | Access and Login to Balena |\n",
    "| 0:30 | [Data and storage on Balena](03_balena_data.ipynb) | Filesystems on Balena and how to use them |\n",
    "| 0:45 | [Balena Architecture](04_balena_arch.ipynb) | Overview of Balena's architecture |\n",
    "| 1:00 | [How to access pre-built software](05_balena_software.ipynb) | Use `module` to access software, libraries and tools |\n",
    "| 1:15 | [Slurm on Balena](06_balena_slurm.ipynb) | How to interact with the scheduler |\n",
    "| 1:30 | [Running Jobs](07_balena_jobs.ipynb) | Run batch and interactive jobs |\n",
    "| 1:50 | [Running Visualisation Jobs](08_balena_visualisation.ipynb) | Running jobs on Visualisation Nodes |"
   ]
  },
  {
   "cell_type": "markdown",
   "metadata": {
    "slideshow": {
     "slide_type": "slide"
    }
   },
   "source": [
    "## Information: Housekeeping\n",
    "\n",
    "* Look up from the screen!\n",
    "* Attendence/registration form link above or tab at top of `Team`\n",
    "* Refreshment/comfort breaks\n",
    "* Questions anytime – lets us know if you need any assistance - it's why we're here.\n",
    "* Polls to check progress\n",
    "* Feedback at the end of the training"
   ]
  },
  {
   "cell_type": "markdown",
   "metadata": {
    "slideshow": {
     "slide_type": "slide"
    }
   },
   "source": [
    "## Information: Housekeeping: Face-to-face\n",
    "\n",
    "* Attendance sheet\n",
    "* Fire alarm\n",
    "* Refreshment/comfort breaks\n",
    "* Questions anytime – lets us know if you need any assistance - it's why we're here.\n",
    "* Post-it notes\n",
    "* Feedback at the end of the training"
   ]
  },
  {
   "cell_type": "markdown",
   "metadata": {
    "slideshow": {
     "slide_type": "slide"
    }
   },
   "source": [
    "## Information: bash magic\n",
    "\n",
    "Throughout the lesson you will be asked to run commands, which will be in `code cells` which are sections with `In` and a number next to the, something like:\n",
    "\n",
    "\n",
    "```bash\n",
    "In [5]:\n",
    "```\n",
    "\n",
    "This teaching material is generated using [Jupyter notebooks](https://jupyter.org/) with [nbfancy](https://github.com/JDBetteridge/nbfancy) which help us to generate and maintain the material.  In order to execute commands in the terminal we make use of *bash magic* which allows us to make calls to the terminal from within the notebook.  Whenever you see a code block containing commands you are asked to run you it will be preceded by `%%bash2`.  You do not need to enter this and it will return an error.  Wherever this is used we have tried to include a reminder for you not to enter it:\n",
    "\n",
    "```python\n",
    "%%bash2 # Ignore this line, it is to help us prepare teaching materials\n",
    "# You should just run the commands that follow\n",
    "```"
   ]
  }
 ],
 "metadata": {
  "celltoolbar": "Slideshow",
  "kernelspec": {
   "display_name": "Python 3",
   "language": "python",
   "name": "python3"
  },
  "language_info": {
   "codemirror_mode": {
    "name": "ipython",
    "version": 3
   },
   "file_extension": ".py",
   "mimetype": "text/x-python",
   "name": "python",
   "nbconvert_exporter": "python",
   "pygments_lexer": "ipython3",
   "version": "3.7.4"
  }
 },
 "nbformat": 4,
 "nbformat_minor": 2
}
