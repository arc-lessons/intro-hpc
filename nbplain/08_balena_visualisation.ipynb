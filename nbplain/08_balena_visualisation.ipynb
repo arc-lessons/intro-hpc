{
 "cells": [
  {
   "cell_type": "markdown",
   "metadata": {
    "slideshow": {
     "slide_type": "slide"
    }
   },
   "source": [
    "# Visualisation on Balena"
   ]
  },
  {
   "cell_type": "markdown",
   "metadata": {
    "slideshow": {
     "slide_type": "subslide"
    }
   },
   "source": [
    "## Overview:\n",
    "- **Teaching:** 10 min\n",
    "- **Exercises:** 5 min\n",
    "\n",
    "**Questions**\n",
    "- Can I visualise large datasets on Balena?\n",
    "**Objectives**\n",
    "- Know how to launch visualisation jobs on Balena"
   ]
  },
  {
   "attachments": {},
   "cell_type": "markdown",
   "metadata": {
    "slideshow": {
     "slide_type": "slide"
    }
   },
   "source": [
    "## Accessing the visualisation service\n",
    "\n",
    "Balena portal: [balena.bath.ac.uk](https://balena.bath.ac.uk)\n",
    "\n",
    "What do you need?\n",
    "- A low latency connection with reasonable bandwidth to the cluster login nodes\n",
    "  - 1MB/sec downstream for low-mid quality JPEG compression (perfectly usable from UK and European ADSL links and over wifi)\n",
    "  - 10MB/sec downstream (100Mbit) for a high quality stream (within the university campus with wired network connections)\n",
    "- A web browser with either:\n",
    "  - A working java runtime\n",
    "  - A turbo vnc client"
   ]
  },
  {
   "cell_type": "markdown",
   "metadata": {
    "slideshow": {
     "slide_type": "slide"
    }
   },
   "source": [
    "## Setup visualisation job 1\n",
    "\n",
    "![](../images/balena-vis.png)"
   ]
  },
  {
   "cell_type": "markdown",
   "metadata": {
    "slideshow": {
     "slide_type": "slide"
    }
   },
   "source": [
    "## Setup visualisation job 2\n",
    "\n",
    "![](../images/balena-vis-setup.png)"
   ]
  },
  {
   "cell_type": "markdown",
   "metadata": {},
   "source": [
    "## Virtualisation remote desktop\n",
    "\n",
    "![](../images/balena-vis-remote.png)"
   ]
  },
  {
   "cell_type": "markdown",
   "metadata": {
    "slideshow": {
     "slide_type": "slide"
    }
   },
   "source": [
    "## Virtualising a molecule/trajectory file\n",
    "\n",
    "![](../images/balena-vis-vmd.png)"
   ]
  },
  {
   "cell_type": "markdown",
   "metadata": {
    "slideshow": {
     "slide_type": "slide"
    }
   },
   "source": [
    "## Key Points:\n",
    "- You can launch visualisation jobs on Balena to explore large datasets."
   ]
  }
 ],
 "metadata": {
  "celltoolbar": "Slideshow",
  "kernelspec": {
   "display_name": "Python 3",
   "language": "python",
   "name": "python3"
  },
  "language_info": {
   "codemirror_mode": {
    "name": "ipython",
    "version": 3
   },
   "file_extension": ".py",
   "mimetype": "text/x-python",
   "name": "python",
   "nbconvert_exporter": "python",
   "pygments_lexer": "ipython3",
   "version": "3.7.4"
  }
 },
 "nbformat": 4,
 "nbformat_minor": 2
}
